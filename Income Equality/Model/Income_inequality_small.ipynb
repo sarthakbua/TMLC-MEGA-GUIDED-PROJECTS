{
 "cells": [
  {
   "cell_type": "code",
   "execution_count": 1,
   "id": "a43f7a62",
   "metadata": {},
   "outputs": [],
   "source": [
    "import pandas as pd\n",
    "import numpy as np\n",
    "import matplotlib.pyplot as plt\n",
    "import seaborn as sns\n",
    "from sklearn.model_selection import train_test_split\n",
    "from sklearn.metrics import f1_score,accuracy_score,classification_report\n",
    "from sklearn.ensemble import RandomForestClassifier\n",
    "from xgboost import XGBClassifier\n",
    "import squarify\n",
    "import warnings\n",
    "warnings.filterwarnings('ignore')\n",
    "pd.pandas.set_option('display.max_columns',None)"
   ]
  },
  {
   "cell_type": "code",
   "execution_count": 2,
   "id": "1713eea4",
   "metadata": {},
   "outputs": [],
   "source": [
    "df=pd.read_csv('Inequality_Prediction_Dataset.csv')\n"
   ]
  },
  {
   "cell_type": "code",
   "execution_count": 3,
   "id": "121b5011",
   "metadata": {},
   "outputs": [],
   "source": [
    "top10_attribute =['occupation_code',\n",
    " 'age',\n",
    " 'working_week_per_year',\n",
    " 'total_employed',\n",
    " 'importance_of_record',\n",
    " 'stocks_status',\n",
    " 'industry_code',\n",
    " 'gender_Male',\n",
    " 'gains',\n",
    " 'tax_status_Nonfiler']"
   ]
  },
  {
   "cell_type": "code",
   "execution_count": 4,
   "id": "25e9e3a5",
   "metadata": {},
   "outputs": [],
   "source": [
    "from sklearn.preprocessing import OneHotEncoder\n",
    "columns_to_encode = ['gender','tax_status']\n",
    "columns_to_keep = df.drop(columns_to_encode,axis=1).columns\n",
    "encoder = OneHotEncoder(sparse_output=False,handle_unknown='ignore')\n",
    "encoded_columns = encoder.fit_transform(df[columns_to_encode])\n",
    "\n",
    "encoded_df = pd.DataFrame(encoded_columns, columns=encoder.get_feature_names_out(columns_to_encode))\n",
    "\n",
    "df_new = pd.concat([encoded_df, df[columns_to_keep]], axis=1)"
   ]
  },
  {
   "cell_type": "code",
   "execution_count": 5,
   "id": "5d4d2d3f",
   "metadata": {},
   "outputs": [
    {
     "data": {
      "text/plain": [
       "Index(['gender_ Female', 'gender_ Male', 'tax_status_ Head of household',\n",
       "       'tax_status_ Joint both 65+', 'tax_status_ Joint both under 65',\n",
       "       'tax_status_ Joint one under 65 & one 65+', 'tax_status_ Nonfiler',\n",
       "       'tax_status_ Single', 'ID', 'age', 'education', 'class',\n",
       "       'education_institute', 'marital_status', 'race', 'is_hispanic',\n",
       "       'employment_commitment', 'unemployment_reason', 'employment_stat',\n",
       "       'wage_per_hour', 'is_labor_union', 'working_week_per_year',\n",
       "       'industry_code', 'industry_code_main', 'occupation_code',\n",
       "       'occupation_code_main', 'total_employed', 'household_stat',\n",
       "       'household_summary', 'under_18_family', 'veterans_admin_questionnaire',\n",
       "       'vet_benefit', 'gains', 'losses', 'stocks_status', 'citizenship',\n",
       "       'mig_year', 'country_of_birth_own', 'country_of_birth_father',\n",
       "       'country_of_birth_mother', 'migration_code_change_in_msa',\n",
       "       'migration_prev_sunbelt', 'migration_code_move_within_reg',\n",
       "       'migration_code_change_in_reg', 'residence_1_year_ago',\n",
       "       'old_residence_reg', 'old_residence_state', 'importance_of_record',\n",
       "       'income_above_limit'],\n",
       "      dtype='object')"
      ]
     },
     "execution_count": 5,
     "metadata": {},
     "output_type": "execute_result"
    }
   ],
   "source": [
    "df_new.columns"
   ]
  },
  {
   "cell_type": "code",
   "execution_count": 6,
   "id": "13af0ef9",
   "metadata": {},
   "outputs": [],
   "source": [
    "df_new=df_new.drop(['gender_ Female', 'tax_status_ Head of household','tax_status_ Joint both 65+','tax_status_ Joint both under 65','tax_status_ Joint one under 65 & one 65+','tax_status_ Single'], axis=1)  "
   ]
  },
  {
   "cell_type": "code",
   "execution_count": 7,
   "id": "6d46fd92",
   "metadata": {},
   "outputs": [],
   "source": [
    "df_new.rename(columns = {'gender_ Male':'gender_Male'}, inplace = True) \n",
    "df_new.rename(columns = {'tax_status_ Nonfiler':'tax_status_Nonfiler'}, inplace = True) \n"
   ]
  },
  {
   "cell_type": "code",
   "execution_count": 8,
   "id": "55f0144a",
   "metadata": {},
   "outputs": [],
   "source": [
    "y=df_new['income_above_limit']\n",
    "X=df_new[top10_attribute]\n",
    "y.replace({'Below limit':0,'Above limit':1},inplace=True)"
   ]
  },
  {
   "cell_type": "code",
   "execution_count": 9,
   "id": "5eb59800",
   "metadata": {},
   "outputs": [
    {
     "name": "stdout",
     "output_type": "stream",
     "text": [
      "(146649, 10) (62850, 10) (146649,) (62850,)\n"
     ]
    }
   ],
   "source": [
    "X_train, X_test, y_train, y_test = train_test_split(X, y, test_size=0.3, random_state=42)\n",
    "print(X_train.shape, X_test.shape, y_train.shape, y_test.shape)"
   ]
  },
  {
   "cell_type": "code",
   "execution_count": 10,
   "id": "547ac85e",
   "metadata": {},
   "outputs": [
    {
     "data": {
      "text/html": [
       "<style>#sk-container-id-1 {color: black;background-color: white;}#sk-container-id-1 pre{padding: 0;}#sk-container-id-1 div.sk-toggleable {background-color: white;}#sk-container-id-1 label.sk-toggleable__label {cursor: pointer;display: block;width: 100%;margin-bottom: 0;padding: 0.3em;box-sizing: border-box;text-align: center;}#sk-container-id-1 label.sk-toggleable__label-arrow:before {content: \"▸\";float: left;margin-right: 0.25em;color: #696969;}#sk-container-id-1 label.sk-toggleable__label-arrow:hover:before {color: black;}#sk-container-id-1 div.sk-estimator:hover label.sk-toggleable__label-arrow:before {color: black;}#sk-container-id-1 div.sk-toggleable__content {max-height: 0;max-width: 0;overflow: hidden;text-align: left;background-color: #f0f8ff;}#sk-container-id-1 div.sk-toggleable__content pre {margin: 0.2em;color: black;border-radius: 0.25em;background-color: #f0f8ff;}#sk-container-id-1 input.sk-toggleable__control:checked~div.sk-toggleable__content {max-height: 200px;max-width: 100%;overflow: auto;}#sk-container-id-1 input.sk-toggleable__control:checked~label.sk-toggleable__label-arrow:before {content: \"▾\";}#sk-container-id-1 div.sk-estimator input.sk-toggleable__control:checked~label.sk-toggleable__label {background-color: #d4ebff;}#sk-container-id-1 div.sk-label input.sk-toggleable__control:checked~label.sk-toggleable__label {background-color: #d4ebff;}#sk-container-id-1 input.sk-hidden--visually {border: 0;clip: rect(1px 1px 1px 1px);clip: rect(1px, 1px, 1px, 1px);height: 1px;margin: -1px;overflow: hidden;padding: 0;position: absolute;width: 1px;}#sk-container-id-1 div.sk-estimator {font-family: monospace;background-color: #f0f8ff;border: 1px dotted black;border-radius: 0.25em;box-sizing: border-box;margin-bottom: 0.5em;}#sk-container-id-1 div.sk-estimator:hover {background-color: #d4ebff;}#sk-container-id-1 div.sk-parallel-item::after {content: \"\";width: 100%;border-bottom: 1px solid gray;flex-grow: 1;}#sk-container-id-1 div.sk-label:hover label.sk-toggleable__label {background-color: #d4ebff;}#sk-container-id-1 div.sk-serial::before {content: \"\";position: absolute;border-left: 1px solid gray;box-sizing: border-box;top: 0;bottom: 0;left: 50%;z-index: 0;}#sk-container-id-1 div.sk-serial {display: flex;flex-direction: column;align-items: center;background-color: white;padding-right: 0.2em;padding-left: 0.2em;position: relative;}#sk-container-id-1 div.sk-item {position: relative;z-index: 1;}#sk-container-id-1 div.sk-parallel {display: flex;align-items: stretch;justify-content: center;background-color: white;position: relative;}#sk-container-id-1 div.sk-item::before, #sk-container-id-1 div.sk-parallel-item::before {content: \"\";position: absolute;border-left: 1px solid gray;box-sizing: border-box;top: 0;bottom: 0;left: 50%;z-index: -1;}#sk-container-id-1 div.sk-parallel-item {display: flex;flex-direction: column;z-index: 1;position: relative;background-color: white;}#sk-container-id-1 div.sk-parallel-item:first-child::after {align-self: flex-end;width: 50%;}#sk-container-id-1 div.sk-parallel-item:last-child::after {align-self: flex-start;width: 50%;}#sk-container-id-1 div.sk-parallel-item:only-child::after {width: 0;}#sk-container-id-1 div.sk-dashed-wrapped {border: 1px dashed gray;margin: 0 0.4em 0.5em 0.4em;box-sizing: border-box;padding-bottom: 0.4em;background-color: white;}#sk-container-id-1 div.sk-label label {font-family: monospace;font-weight: bold;display: inline-block;line-height: 1.2em;}#sk-container-id-1 div.sk-label-container {text-align: center;}#sk-container-id-1 div.sk-container {/* jupyter's `normalize.less` sets `[hidden] { display: none; }` but bootstrap.min.css set `[hidden] { display: none !important; }` so we also need the `!important` here to be able to override the default hidden behavior on the sphinx rendered scikit-learn.org. See: https://github.com/scikit-learn/scikit-learn/issues/21755 */display: inline-block !important;position: relative;}#sk-container-id-1 div.sk-text-repr-fallback {display: none;}</style><div id=\"sk-container-id-1\" class=\"sk-top-container\"><div class=\"sk-text-repr-fallback\"><pre>RandomForestClassifier(random_state=42)</pre><b>In a Jupyter environment, please rerun this cell to show the HTML representation or trust the notebook. <br />On GitHub, the HTML representation is unable to render, please try loading this page with nbviewer.org.</b></div><div class=\"sk-container\" hidden><div class=\"sk-item\"><div class=\"sk-estimator sk-toggleable\"><input class=\"sk-toggleable__control sk-hidden--visually\" id=\"sk-estimator-id-1\" type=\"checkbox\" checked><label for=\"sk-estimator-id-1\" class=\"sk-toggleable__label sk-toggleable__label-arrow\">RandomForestClassifier</label><div class=\"sk-toggleable__content\"><pre>RandomForestClassifier(random_state=42)</pre></div></div></div></div></div>"
      ],
      "text/plain": [
       "RandomForestClassifier(random_state=42)"
      ]
     },
     "execution_count": 10,
     "metadata": {},
     "output_type": "execute_result"
    }
   ],
   "source": [
    "ran_for = RandomForestClassifier(random_state=42)\n",
    "ran_for.fit(X_train, y_train)"
   ]
  },
  {
   "cell_type": "code",
   "execution_count": 11,
   "id": "fe1cc2e1",
   "metadata": {},
   "outputs": [],
   "source": [
    "Y_pred_ran_for = ran_for.predict(X_test)"
   ]
  },
  {
   "cell_type": "code",
   "execution_count": 12,
   "id": "3fb36210",
   "metadata": {},
   "outputs": [
    {
     "data": {
      "text/plain": [
       "0.9502147971360382"
      ]
     },
     "execution_count": 12,
     "metadata": {},
     "output_type": "execute_result"
    }
   ],
   "source": [
    "accuracy_score(y_test, Y_pred_ran_for)"
   ]
  },
  {
   "cell_type": "markdown",
   "id": "cc7661a5",
   "metadata": {},
   "source": [
    "#### Saving Model"
   ]
  },
  {
   "cell_type": "code",
   "execution_count": 13,
   "id": "a0f04823",
   "metadata": {},
   "outputs": [],
   "source": [
    "import joblib"
   ]
  },
  {
   "cell_type": "code",
   "execution_count": 14,
   "id": "8c3edeaa",
   "metadata": {},
   "outputs": [
    {
     "data": {
      "text/plain": [
       "['Random_Forest_Classifier.joblib']"
      ]
     },
     "execution_count": 14,
     "metadata": {},
     "output_type": "execute_result"
    }
   ],
   "source": [
    "joblib.dump(ran_for, 'Random_Forest_Classifier.joblib')"
   ]
  },
  {
   "cell_type": "code",
   "execution_count": 15,
   "id": "1eebcd1e",
   "metadata": {},
   "outputs": [],
   "source": [
    "model_loaded = joblib.load('Random_Forest_Classifier.joblib')"
   ]
  },
  {
   "cell_type": "code",
   "execution_count": 16,
   "id": "53bc0589",
   "metadata": {},
   "outputs": [
    {
     "data": {
      "text/plain": [
       "array([0, 0, 0, ..., 0, 0, 0], dtype=int64)"
      ]
     },
     "execution_count": 16,
     "metadata": {},
     "output_type": "execute_result"
    }
   ],
   "source": [
    "model_loaded.predict(X_test)"
   ]
  },
  {
   "cell_type": "code",
   "execution_count": null,
   "id": "44b56e75",
   "metadata": {},
   "outputs": [],
   "source": []
  }
 ],
 "metadata": {
  "kernelspec": {
   "display_name": "Python 3 (ipykernel)",
   "language": "python",
   "name": "python3"
  },
  "language_info": {
   "codemirror_mode": {
    "name": "ipython",
    "version": 3
   },
   "file_extension": ".py",
   "mimetype": "text/x-python",
   "name": "python",
   "nbconvert_exporter": "python",
   "pygments_lexer": "ipython3",
   "version": "3.11.7"
  }
 },
 "nbformat": 4,
 "nbformat_minor": 5
}
